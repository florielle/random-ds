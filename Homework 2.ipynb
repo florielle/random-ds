{
 "cells": [
  {
   "cell_type": "markdown",
   "metadata": {},
   "source": [
    "# Introduction to Data Science\n",
    "## Homework 2"
   ]
  },
  {
   "cell_type": "markdown",
   "metadata": {},
   "source": [
    "Student Name: Joyce Wu\n",
    "\n",
    "Student Netid: jmw784\n",
    "***"
   ]
  },
  {
   "cell_type": "markdown",
   "metadata": {},
   "source": [
    "### Part 1: Case study\n",
    "- Read [this article](http://www.nytimes.com/2012/02/19/magazine/shopping-habits.html) in the New York Times.\n",
    "- Use what we've learned in class and from the book to describe how one could set Target's problem up as a predictive modeling problem, such that they could have gotten the results that they did.  Formulate your solution as a proposed plan using our data science terminology.  Include all the aspects of the formulation that you see as relevant to solving the problem.  Be precise but concise."
   ]
  },
  {
   "cell_type": "markdown",
   "metadata": {},
   "source": [
    "1. Understand the business motivation. The business motivation is to predict whether women are pregnant are not before other companies do, so that Target can send targeted ads to these women before other companies do. This way the women will build brand loyalty to Target's baby products.\n",
    "2. Invest in the data. Purchase the data about customers from outside companies and/or set up a system to collect this data when customers make purchases. Prepare the data so it is in a format that you can develop a model with.\n",
    "3. Perform feature selection. Decide whether the features should be considered continuous or if they should be discretized. Then, try to reduce the number of irrelevant features for your model. You can use domain knowledge by consulting a psychologist, surveying pregnant women, visualizing the data, etc. You can also choose many features you think may be relevant and calculate the information gain of certain features in regards to the ability to predict whether a women is pregnant or not. For example, some features could be for assessing whether a woman increased their purchases of hand lotion or not. Features could be related to purchase frequency, purchase categories, and purchase volume. The target variable is whether the woman turns out to be pregnant within a certain period of time, and it is a binary variable (yes/no). This is a classification problem.\n",
    "4. Develop a model using a supervised segmentation technique. One of such techniques is to create a tree-structured model, but other algorithms may also be employed. Determine if you desire the probability that a woman will be pregnant or just a yes/no output, and incorporate that in your model.\n",
    "5. Train your model using the training set of data, with data from women that did end up being pregnant and women that did not end up being pregnant. Check to see if your model is overfitting. Introduce regularization or set limits on your algorithm if overfitting is a problem.\n",
    "6. Test your model with new data, repeat previous steps as necessary if the model does not perform well on new data."
   ]
  },
  {
   "cell_type": "markdown",
   "metadata": {},
   "source": [
    "### Part 2: Exploring data in the command line\n",
    "For this part we will be using the data file located in `\"data/advertising_events.csv\"`. This file consists of records that pertain to some online advertising events on a given day. There are 4 comma separated columns in this order: `userid`, `timestamp`, `domain`, and `action`. These fields are of type `int`, `int`, `string`, and `int` respectively. Answer the following questions using Linux/Unix bash commands. All questions can be answered in one line (sometimes, with pipes)! Some questions will have many possible solutions. Don't forget that in IPython notebooks you must prefix all bash commands with an exclamation point, i.e. `\"!command arguments\"`.\n",
    "\n",
    "[Hints: You can experiment with whatever you want in the notebook and then delete things to construct your answer later.  You can also use ssh to use the actual bash shell on EC2 (see original directions) and then just paste your answers here. Recall that once you enter the \"!\" then filename completion should work.]"
   ]
  },
  {
   "cell_type": "markdown",
   "metadata": {},
   "source": [
    "1\\. How many records (lines) are in this file?"
   ]
  },
  {
   "cell_type": "code",
   "execution_count": 1,
   "metadata": {
    "collapsed": false
   },
   "outputs": [
    {
     "name": "stdout",
     "output_type": "stream",
     "text": [
      "   10341\r\n"
     ]
    }
   ],
   "source": [
    "# Place your code here\n",
    "!wc -l <advertising_events.csv"
   ]
  },
  {
   "cell_type": "markdown",
   "metadata": {},
   "source": [
    "2\\. How many unique users are in this file? (hint: consider the 'cut' command and use pipe operator '|')"
   ]
  },
  {
   "cell_type": "code",
   "execution_count": 2,
   "metadata": {
    "collapsed": false
   },
   "outputs": [
    {
     "name": "stdout",
     "output_type": "stream",
     "text": [
      "     732\r\n"
     ]
    }
   ],
   "source": [
    "# Place your code here\n",
    "!cat advertising_events.csv | cut -d, -f1 | sort | uniq | wc -l"
   ]
  },
  {
   "cell_type": "markdown",
   "metadata": {},
   "source": [
    "3\\. Rank all domains by the number of visits they received in descending order. (hint: consider the 'cut', 'uniq' and 'sort' commands and the pipe operator)."
   ]
  },
  {
   "cell_type": "code",
   "execution_count": 3,
   "metadata": {
    "collapsed": false
   },
   "outputs": [
    {
     "name": "stdout",
     "output_type": "stream",
     "text": [
      "3114 google.com\r\n",
      "2092 facebook.com\r\n",
      "1036 youtube.com\r\n",
      "1034 yahoo.com\r\n",
      "1022 baidu.com\r\n",
      " 513 wikipedia.org\r\n",
      " 511 amazon.com\r\n",
      " 382 qq.com\r\n",
      " 321 twitter.com\r\n",
      " 316 taobao.com\r\n"
     ]
    }
   ],
   "source": [
    "# Place your code here\n",
    "!cat advertising_events.csv | cut -d, -f3 | sort | uniq -c | sort -k 1,1 -r"
   ]
  },
  {
   "cell_type": "markdown",
   "metadata": {},
   "source": [
    "4\\. List all records for the user with user id 37. (hint: this can be done using 'grep')"
   ]
  },
  {
   "cell_type": "code",
   "execution_count": 4,
   "metadata": {
    "collapsed": false
   },
   "outputs": [
    {
     "name": "stdout",
     "output_type": "stream",
     "text": [
      "37,648061658,google.com,0\r\n",
      "37,642479972,google.com,2\r\n",
      "37,644493341,facebook.com,2\r\n",
      "37,654941318,facebook.com,1\r\n",
      "37,649979874,baidu.com,1\r\n",
      "37,653061949,yahoo.com,1\r\n",
      "37,655020469,google.com,3\r\n",
      "37,640878012,amazon.com,0\r\n",
      "37,659864136,youtube.com,1\r\n",
      "37,640361378,yahoo.com,1\r\n",
      "37,653862134,facebook.com,0\r\n",
      "37,648828970,youtube.com,0\r\n"
     ]
    }
   ],
   "source": [
    "# Place your code here\n",
    "!cat advertising_events.csv | grep \"^37,\""
   ]
  },
  {
   "cell_type": "markdown",
   "metadata": {},
   "source": [
    "### Part 3: Dealing with data Pythonically"
   ]
  },
  {
   "cell_type": "code",
   "execution_count": 5,
   "metadata": {
    "collapsed": true
   },
   "outputs": [],
   "source": [
    "# You might find these packages useful. You may import any others you want!\n",
    "import pandas as pd\n",
    "import numpy as np\n",
    "from IPython.display import display"
   ]
  },
  {
   "cell_type": "markdown",
   "metadata": {},
   "source": [
    "1\\. Load the data set `\"data/ads_dataset.tsv\"` into a Python Pandas data frame called `ads`."
   ]
  },
  {
   "cell_type": "code",
   "execution_count": 12,
   "metadata": {
    "collapsed": false
   },
   "outputs": [
    {
     "data": {
      "text/html": [
       "<div>\n",
       "<table border=\"1\" class=\"dataframe\">\n",
       "  <thead>\n",
       "    <tr style=\"text-align: right;\">\n",
       "      <th></th>\n",
       "      <th>isbuyer</th>\n",
       "      <th>buy_freq</th>\n",
       "      <th>visit_freq</th>\n",
       "      <th>buy_interval</th>\n",
       "      <th>sv_interval</th>\n",
       "      <th>expected_time_buy</th>\n",
       "      <th>expected_time_visit</th>\n",
       "      <th>last_buy</th>\n",
       "      <th>last_visit</th>\n",
       "      <th>multiple_buy</th>\n",
       "      <th>multiple_visit</th>\n",
       "      <th>uniq_urls</th>\n",
       "      <th>num_checkins</th>\n",
       "      <th>y_buy</th>\n",
       "    </tr>\n",
       "  </thead>\n",
       "  <tbody>\n",
       "    <tr>\n",
       "      <th>NaN</th>\n",
       "      <td>0</td>\n",
       "      <td>NaN</td>\n",
       "      <td>1</td>\n",
       "      <td>0.0</td>\n",
       "      <td>0.0</td>\n",
       "      <td>0.0</td>\n",
       "      <td>0.0000</td>\n",
       "      <td>106</td>\n",
       "      <td>106</td>\n",
       "      <td>0</td>\n",
       "      <td>0</td>\n",
       "      <td>169</td>\n",
       "      <td>2130</td>\n",
       "      <td>0</td>\n",
       "    </tr>\n",
       "    <tr>\n",
       "      <th>NaN</th>\n",
       "      <td>0</td>\n",
       "      <td>NaN</td>\n",
       "      <td>1</td>\n",
       "      <td>0.0</td>\n",
       "      <td>0.0</td>\n",
       "      <td>0.0</td>\n",
       "      <td>0.0000</td>\n",
       "      <td>72</td>\n",
       "      <td>72</td>\n",
       "      <td>0</td>\n",
       "      <td>0</td>\n",
       "      <td>154</td>\n",
       "      <td>1100</td>\n",
       "      <td>0</td>\n",
       "    </tr>\n",
       "    <tr>\n",
       "      <th>NaN</th>\n",
       "      <td>0</td>\n",
       "      <td>NaN</td>\n",
       "      <td>1</td>\n",
       "      <td>0.0</td>\n",
       "      <td>0.0</td>\n",
       "      <td>0.0</td>\n",
       "      <td>0.0000</td>\n",
       "      <td>5</td>\n",
       "      <td>5</td>\n",
       "      <td>0</td>\n",
       "      <td>0</td>\n",
       "      <td>4</td>\n",
       "      <td>12</td>\n",
       "      <td>0</td>\n",
       "    </tr>\n",
       "    <tr>\n",
       "      <th>NaN</th>\n",
       "      <td>0</td>\n",
       "      <td>NaN</td>\n",
       "      <td>1</td>\n",
       "      <td>0.0</td>\n",
       "      <td>0.0</td>\n",
       "      <td>0.0</td>\n",
       "      <td>0.0000</td>\n",
       "      <td>6</td>\n",
       "      <td>6</td>\n",
       "      <td>0</td>\n",
       "      <td>0</td>\n",
       "      <td>150</td>\n",
       "      <td>539</td>\n",
       "      <td>0</td>\n",
       "    </tr>\n",
       "    <tr>\n",
       "      <th>NaN</th>\n",
       "      <td>0</td>\n",
       "      <td>NaN</td>\n",
       "      <td>2</td>\n",
       "      <td>0.0</td>\n",
       "      <td>0.5</td>\n",
       "      <td>0.0</td>\n",
       "      <td>-101.1493</td>\n",
       "      <td>101</td>\n",
       "      <td>101</td>\n",
       "      <td>0</td>\n",
       "      <td>1</td>\n",
       "      <td>103</td>\n",
       "      <td>362</td>\n",
       "      <td>0</td>\n",
       "    </tr>\n",
       "  </tbody>\n",
       "</table>\n",
       "</div>"
      ],
      "text/plain": [
       "     isbuyer  buy_freq  visit_freq  buy_interval  sv_interval  \\\n",
       "NaN        0       NaN           1           0.0          0.0   \n",
       "NaN        0       NaN           1           0.0          0.0   \n",
       "NaN        0       NaN           1           0.0          0.0   \n",
       "NaN        0       NaN           1           0.0          0.0   \n",
       "NaN        0       NaN           2           0.0          0.5   \n",
       "\n",
       "     expected_time_buy  expected_time_visit  last_buy  last_visit  \\\n",
       "NaN                0.0               0.0000       106         106   \n",
       "NaN                0.0               0.0000        72          72   \n",
       "NaN                0.0               0.0000         5           5   \n",
       "NaN                0.0               0.0000         6           6   \n",
       "NaN                0.0            -101.1493       101         101   \n",
       "\n",
       "     multiple_buy  multiple_visit  uniq_urls  num_checkins  y_buy  \n",
       "NaN             0               0        169          2130      0  \n",
       "NaN             0               0        154          1100      0  \n",
       "NaN             0               0          4            12      0  \n",
       "NaN             0               0        150           539      0  \n",
       "NaN             0               1        103           362      0  "
      ]
     },
     "execution_count": 12,
     "metadata": {},
     "output_type": "execute_result"
    }
   ],
   "source": [
    "# Place your code here\n",
    "ads = pd.read_csv('ads_dataset.tsv', sep='\\t')\n",
    "\n",
    "ads.head()"
   ]
  },
  {
   "cell_type": "markdown",
   "metadata": {},
   "source": [
    "2\\. Write a Python function called `getDfSummary()` that does the following:\n",
    "- Takes as input a data frame\n",
    "- For each variable in the data frame calculates the following features:\n",
    "  - `number_nan` to count the number of missing not-a-number values\n",
    "  - Ignoring missing, NA, and Null values:\n",
    "    - `number_distinct` to count the number of distinct values a variable can take on\n",
    "    - `mean`, `max`, `min`, `std` (standard deviation), and `25%`, `50%`, `75%` to correspond to the appropriate percentiles\n",
    "- All of these new features should be loaded in a new data frame. Each row of the data frame should be a variable from the input data frame, and the columns should be the new summary features.\n",
    "- Returns this new data frame containing all of the summary information\n",
    "\n",
    "Hint: The pandas `describe()` [(manual page)](http://pandas.pydata.org/pandas-docs/stable/generated/pandas.DataFrame.describe.html) method returns a useful series of values that can be used here."
   ]
  },
  {
   "cell_type": "code",
   "execution_count": 7,
   "metadata": {
    "collapsed": false
   },
   "outputs": [
    {
     "data": {
      "text/html": [
       "<div>\n",
       "<table border=\"1\" class=\"dataframe\">\n",
       "  <thead>\n",
       "    <tr style=\"text-align: right;\">\n",
       "      <th></th>\n",
       "      <th>variable</th>\n",
       "      <th>number_nan</th>\n",
       "      <th>number_distinct</th>\n",
       "      <th>mean</th>\n",
       "      <th>max</th>\n",
       "      <th>min</th>\n",
       "      <th>std</th>\n",
       "      <th>25%</th>\n",
       "      <th>50%</th>\n",
       "      <th>75%</th>\n",
       "    </tr>\n",
       "  </thead>\n",
       "  <tbody>\n",
       "    <tr>\n",
       "      <th>0</th>\n",
       "      <td>isbuyer</td>\n",
       "      <td>0</td>\n",
       "      <td>2</td>\n",
       "      <td>0.042632</td>\n",
       "      <td>1.00000</td>\n",
       "      <td>0.0000</td>\n",
       "      <td>0.202027</td>\n",
       "      <td>0.0</td>\n",
       "      <td>0.0</td>\n",
       "      <td>0.000000</td>\n",
       "    </tr>\n",
       "    <tr>\n",
       "      <th>1</th>\n",
       "      <td>buy_freq</td>\n",
       "      <td>52257</td>\n",
       "      <td>10</td>\n",
       "      <td>1.240653</td>\n",
       "      <td>15.00000</td>\n",
       "      <td>1.0000</td>\n",
       "      <td>0.782228</td>\n",
       "      <td>1.0</td>\n",
       "      <td>1.0</td>\n",
       "      <td>1.000000</td>\n",
       "    </tr>\n",
       "    <tr>\n",
       "      <th>2</th>\n",
       "      <td>visit_freq</td>\n",
       "      <td>0</td>\n",
       "      <td>64</td>\n",
       "      <td>1.852777</td>\n",
       "      <td>84.00000</td>\n",
       "      <td>0.0000</td>\n",
       "      <td>2.921820</td>\n",
       "      <td>1.0</td>\n",
       "      <td>1.0</td>\n",
       "      <td>2.000000</td>\n",
       "    </tr>\n",
       "    <tr>\n",
       "      <th>3</th>\n",
       "      <td>buy_interval</td>\n",
       "      <td>0</td>\n",
       "      <td>295</td>\n",
       "      <td>0.210008</td>\n",
       "      <td>174.62500</td>\n",
       "      <td>0.0000</td>\n",
       "      <td>3.922016</td>\n",
       "      <td>0.0</td>\n",
       "      <td>0.0</td>\n",
       "      <td>0.000000</td>\n",
       "    </tr>\n",
       "    <tr>\n",
       "      <th>4</th>\n",
       "      <td>sv_interval</td>\n",
       "      <td>0</td>\n",
       "      <td>5886</td>\n",
       "      <td>5.825610</td>\n",
       "      <td>184.91670</td>\n",
       "      <td>0.0000</td>\n",
       "      <td>17.595442</td>\n",
       "      <td>0.0</td>\n",
       "      <td>0.0</td>\n",
       "      <td>0.104167</td>\n",
       "    </tr>\n",
       "    <tr>\n",
       "      <th>5</th>\n",
       "      <td>expected_time_buy</td>\n",
       "      <td>0</td>\n",
       "      <td>348</td>\n",
       "      <td>-0.198040</td>\n",
       "      <td>84.28571</td>\n",
       "      <td>-181.9238</td>\n",
       "      <td>4.997792</td>\n",
       "      <td>0.0</td>\n",
       "      <td>0.0</td>\n",
       "      <td>0.000000</td>\n",
       "    </tr>\n",
       "    <tr>\n",
       "      <th>6</th>\n",
       "      <td>expected_time_visit</td>\n",
       "      <td>0</td>\n",
       "      <td>15135</td>\n",
       "      <td>-10.210786</td>\n",
       "      <td>91.40192</td>\n",
       "      <td>-187.6156</td>\n",
       "      <td>31.879722</td>\n",
       "      <td>0.0</td>\n",
       "      <td>0.0</td>\n",
       "      <td>0.000000</td>\n",
       "    </tr>\n",
       "    <tr>\n",
       "      <th>7</th>\n",
       "      <td>last_buy</td>\n",
       "      <td>0</td>\n",
       "      <td>189</td>\n",
       "      <td>64.729335</td>\n",
       "      <td>188.00000</td>\n",
       "      <td>0.0000</td>\n",
       "      <td>53.476658</td>\n",
       "      <td>18.0</td>\n",
       "      <td>51.0</td>\n",
       "      <td>105.000000</td>\n",
       "    </tr>\n",
       "    <tr>\n",
       "      <th>8</th>\n",
       "      <td>last_visit</td>\n",
       "      <td>0</td>\n",
       "      <td>189</td>\n",
       "      <td>64.729335</td>\n",
       "      <td>188.00000</td>\n",
       "      <td>0.0000</td>\n",
       "      <td>53.476658</td>\n",
       "      <td>18.0</td>\n",
       "      <td>51.0</td>\n",
       "      <td>105.000000</td>\n",
       "    </tr>\n",
       "    <tr>\n",
       "      <th>9</th>\n",
       "      <td>multiple_buy</td>\n",
       "      <td>0</td>\n",
       "      <td>2</td>\n",
       "      <td>0.006357</td>\n",
       "      <td>1.00000</td>\n",
       "      <td>0.0000</td>\n",
       "      <td>0.079479</td>\n",
       "      <td>0.0</td>\n",
       "      <td>0.0</td>\n",
       "      <td>0.000000</td>\n",
       "    </tr>\n",
       "    <tr>\n",
       "      <th>10</th>\n",
       "      <td>multiple_visit</td>\n",
       "      <td>0</td>\n",
       "      <td>2</td>\n",
       "      <td>0.277444</td>\n",
       "      <td>1.00000</td>\n",
       "      <td>0.0000</td>\n",
       "      <td>0.447742</td>\n",
       "      <td>0.0</td>\n",
       "      <td>0.0</td>\n",
       "      <td>1.000000</td>\n",
       "    </tr>\n",
       "    <tr>\n",
       "      <th>11</th>\n",
       "      <td>uniq_urls</td>\n",
       "      <td>0</td>\n",
       "      <td>207</td>\n",
       "      <td>86.569343</td>\n",
       "      <td>206.00000</td>\n",
       "      <td>-1.0000</td>\n",
       "      <td>61.969765</td>\n",
       "      <td>30.0</td>\n",
       "      <td>75.0</td>\n",
       "      <td>155.000000</td>\n",
       "    </tr>\n",
       "    <tr>\n",
       "      <th>12</th>\n",
       "      <td>num_checkins</td>\n",
       "      <td>0</td>\n",
       "      <td>4628</td>\n",
       "      <td>720.657592</td>\n",
       "      <td>37091.00000</td>\n",
       "      <td>1.0000</td>\n",
       "      <td>1275.727306</td>\n",
       "      <td>127.0</td>\n",
       "      <td>319.0</td>\n",
       "      <td>802.000000</td>\n",
       "    </tr>\n",
       "    <tr>\n",
       "      <th>13</th>\n",
       "      <td>y_buy</td>\n",
       "      <td>0</td>\n",
       "      <td>2</td>\n",
       "      <td>0.004635</td>\n",
       "      <td>1.00000</td>\n",
       "      <td>0.0000</td>\n",
       "      <td>0.067924</td>\n",
       "      <td>0.0</td>\n",
       "      <td>0.0</td>\n",
       "      <td>0.000000</td>\n",
       "    </tr>\n",
       "  </tbody>\n",
       "</table>\n",
       "</div>"
      ],
      "text/plain": [
       "               variable  number_nan  number_distinct        mean          max  \\\n",
       "0               isbuyer           0                2    0.042632      1.00000   \n",
       "1              buy_freq       52257               10    1.240653     15.00000   \n",
       "2            visit_freq           0               64    1.852777     84.00000   \n",
       "3          buy_interval           0              295    0.210008    174.62500   \n",
       "4           sv_interval           0             5886    5.825610    184.91670   \n",
       "5     expected_time_buy           0              348   -0.198040     84.28571   \n",
       "6   expected_time_visit           0            15135  -10.210786     91.40192   \n",
       "7              last_buy           0              189   64.729335    188.00000   \n",
       "8            last_visit           0              189   64.729335    188.00000   \n",
       "9          multiple_buy           0                2    0.006357      1.00000   \n",
       "10       multiple_visit           0                2    0.277444      1.00000   \n",
       "11            uniq_urls           0              207   86.569343    206.00000   \n",
       "12         num_checkins           0             4628  720.657592  37091.00000   \n",
       "13                y_buy           0                2    0.004635      1.00000   \n",
       "\n",
       "         min          std    25%    50%         75%  \n",
       "0     0.0000     0.202027    0.0    0.0    0.000000  \n",
       "1     1.0000     0.782228    1.0    1.0    1.000000  \n",
       "2     0.0000     2.921820    1.0    1.0    2.000000  \n",
       "3     0.0000     3.922016    0.0    0.0    0.000000  \n",
       "4     0.0000    17.595442    0.0    0.0    0.104167  \n",
       "5  -181.9238     4.997792    0.0    0.0    0.000000  \n",
       "6  -187.6156    31.879722    0.0    0.0    0.000000  \n",
       "7     0.0000    53.476658   18.0   51.0  105.000000  \n",
       "8     0.0000    53.476658   18.0   51.0  105.000000  \n",
       "9     0.0000     0.079479    0.0    0.0    0.000000  \n",
       "10    0.0000     0.447742    0.0    0.0    1.000000  \n",
       "11   -1.0000    61.969765   30.0   75.0  155.000000  \n",
       "12    1.0000  1275.727306  127.0  319.0  802.000000  \n",
       "13    0.0000     0.067924    0.0    0.0    0.000000  "
      ]
     },
     "execution_count": 7,
     "metadata": {},
     "output_type": "execute_result"
    }
   ],
   "source": [
    "def getDfSummary(input_data):\n",
    "    # Place your code here\n",
    "    output_data = pd.DataFrame()\n",
    "    output_data['variable']=pd.Series([column for column in input_data])\n",
    "    output_data['number_nan']=pd.Series(np.sum(input_data[column].isnull()) for column in input_data)\n",
    "    output_data['number_distinct']=pd.Series(len(input_data[column].dropna().unique()) for column in input_data)\n",
    "    output_data['mean']=pd.Series(input_data[column].mean() for column in input_data)\n",
    "    output_data['max']=pd.Series(input_data[column].max() for column in input_data)\n",
    "    output_data['min']=pd.Series(input_data[column].min() for column in input_data)\n",
    "    output_data['std']=pd.Series(input_data[column].std() for column in input_data)\n",
    "    output_data['25%']=pd.Series(input_data[column].dropna().quantile(q=0.25) for column in input_data)\n",
    "    output_data['50%']=pd.Series(input_data[column].dropna().quantile(q=0.5) for column in input_data)\n",
    "    output_data['75%']=pd.Series(input_data[column].dropna().quantile(q=0.75) for column in input_data)\n",
    "    return output_data\n",
    "\n",
    "getDfSummary(ads)"
   ]
  },
  {
   "cell_type": "markdown",
   "metadata": {},
   "source": [
    "3\\. How long does it take for your `getDfSummary()` function to work on your `ads` data frame? Show us the results below.\n",
    "\n",
    "Hint: `%timeit getDfSummary(ads)`"
   ]
  },
  {
   "cell_type": "code",
   "execution_count": 8,
   "metadata": {
    "collapsed": false
   },
   "outputs": [
    {
     "name": "stdout",
     "output_type": "stream",
     "text": [
      "10 loops, best of 3: 76.8 ms per loop\n"
     ]
    }
   ],
   "source": [
    "# Place your code here\n",
    "%timeit getDfSummary(ads)"
   ]
  },
  {
   "cell_type": "markdown",
   "metadata": {},
   "source": [
    "4\\. Using the results returned from `getDfSummary()`, which fields, if any, contain missing `NaN` values?"
   ]
  },
  {
   "cell_type": "code",
   "execution_count": 9,
   "metadata": {
    "collapsed": false
   },
   "outputs": [
    {
     "data": {
      "text/plain": [
       "1    buy_freq\n",
       "Name: variable, dtype: object"
      ]
     },
     "execution_count": 9,
     "metadata": {},
     "output_type": "execute_result"
    }
   ],
   "source": [
    "# Place your code here\n",
    "summary = getDfSummary(ads)\n",
    "missingVariables = summary[summary['number_nan']>0]['variable']\n",
    "missingVariables"
   ]
  },
  {
   "cell_type": "markdown",
   "metadata": {},
   "source": [
    "5\\. For the fields with missing values, does it look like the data is missing at random? Are there any other fields that correlate perfectly, or predict that the data is missing? If missing, what should the data value be?\n",
    "\n",
    "Hint: create another data frame that has just the records with a missing value. Get a summary of this data frame using `getDfSummary()` and compare the differences. Do some feature distributions change dramatically?"
   ]
  },
  {
   "cell_type": "code",
   "execution_count": 10,
   "metadata": {
    "collapsed": false
   },
   "outputs": [
    {
     "data": {
      "text/html": [
       "<div>\n",
       "<table border=\"1\" class=\"dataframe\">\n",
       "  <thead>\n",
       "    <tr style=\"text-align: right;\">\n",
       "      <th></th>\n",
       "      <th>variable</th>\n",
       "      <th>number_nan</th>\n",
       "      <th>number_distinct</th>\n",
       "      <th>mean</th>\n",
       "      <th>max</th>\n",
       "      <th>min</th>\n",
       "      <th>std</th>\n",
       "      <th>25%</th>\n",
       "      <th>50%</th>\n",
       "      <th>75%</th>\n",
       "    </tr>\n",
       "  </thead>\n",
       "  <tbody>\n",
       "    <tr>\n",
       "      <th>0</th>\n",
       "      <td>isbuyer</td>\n",
       "      <td>0</td>\n",
       "      <td>1</td>\n",
       "      <td>0.000000</td>\n",
       "      <td>0.00000</td>\n",
       "      <td>0.0000</td>\n",
       "      <td>0.000000</td>\n",
       "      <td>0.0</td>\n",
       "      <td>0.0</td>\n",
       "      <td>0.000000</td>\n",
       "    </tr>\n",
       "    <tr>\n",
       "      <th>1</th>\n",
       "      <td>buy_freq</td>\n",
       "      <td>52257</td>\n",
       "      <td>0</td>\n",
       "      <td>NaN</td>\n",
       "      <td>NaN</td>\n",
       "      <td>NaN</td>\n",
       "      <td>NaN</td>\n",
       "      <td>NaN</td>\n",
       "      <td>NaN</td>\n",
       "      <td>NaN</td>\n",
       "    </tr>\n",
       "    <tr>\n",
       "      <th>2</th>\n",
       "      <td>visit_freq</td>\n",
       "      <td>0</td>\n",
       "      <td>48</td>\n",
       "      <td>1.651549</td>\n",
       "      <td>84.00000</td>\n",
       "      <td>1.0000</td>\n",
       "      <td>2.147955</td>\n",
       "      <td>1.0</td>\n",
       "      <td>1.0</td>\n",
       "      <td>2.000000</td>\n",
       "    </tr>\n",
       "    <tr>\n",
       "      <th>3</th>\n",
       "      <td>buy_interval</td>\n",
       "      <td>0</td>\n",
       "      <td>1</td>\n",
       "      <td>0.000000</td>\n",
       "      <td>0.00000</td>\n",
       "      <td>0.0000</td>\n",
       "      <td>0.000000</td>\n",
       "      <td>0.0</td>\n",
       "      <td>0.0</td>\n",
       "      <td>0.000000</td>\n",
       "    </tr>\n",
       "    <tr>\n",
       "      <th>4</th>\n",
       "      <td>sv_interval</td>\n",
       "      <td>0</td>\n",
       "      <td>5112</td>\n",
       "      <td>5.686388</td>\n",
       "      <td>184.91670</td>\n",
       "      <td>0.0000</td>\n",
       "      <td>17.623555</td>\n",
       "      <td>0.0</td>\n",
       "      <td>0.0</td>\n",
       "      <td>0.041667</td>\n",
       "    </tr>\n",
       "    <tr>\n",
       "      <th>5</th>\n",
       "      <td>expected_time_buy</td>\n",
       "      <td>0</td>\n",
       "      <td>1</td>\n",
       "      <td>0.000000</td>\n",
       "      <td>0.00000</td>\n",
       "      <td>0.0000</td>\n",
       "      <td>0.000000</td>\n",
       "      <td>0.0</td>\n",
       "      <td>0.0</td>\n",
       "      <td>0.000000</td>\n",
       "    </tr>\n",
       "    <tr>\n",
       "      <th>6</th>\n",
       "      <td>expected_time_visit</td>\n",
       "      <td>0</td>\n",
       "      <td>13351</td>\n",
       "      <td>-9.669298</td>\n",
       "      <td>91.40192</td>\n",
       "      <td>-187.6156</td>\n",
       "      <td>31.239030</td>\n",
       "      <td>0.0</td>\n",
       "      <td>0.0</td>\n",
       "      <td>0.000000</td>\n",
       "    </tr>\n",
       "    <tr>\n",
       "      <th>7</th>\n",
       "      <td>last_buy</td>\n",
       "      <td>0</td>\n",
       "      <td>189</td>\n",
       "      <td>65.741317</td>\n",
       "      <td>188.00000</td>\n",
       "      <td>0.0000</td>\n",
       "      <td>53.484622</td>\n",
       "      <td>19.0</td>\n",
       "      <td>52.0</td>\n",
       "      <td>106.000000</td>\n",
       "    </tr>\n",
       "    <tr>\n",
       "      <th>8</th>\n",
       "      <td>last_visit</td>\n",
       "      <td>0</td>\n",
       "      <td>189</td>\n",
       "      <td>65.741317</td>\n",
       "      <td>188.00000</td>\n",
       "      <td>0.0000</td>\n",
       "      <td>53.484622</td>\n",
       "      <td>19.0</td>\n",
       "      <td>52.0</td>\n",
       "      <td>106.000000</td>\n",
       "    </tr>\n",
       "    <tr>\n",
       "      <th>9</th>\n",
       "      <td>multiple_buy</td>\n",
       "      <td>0</td>\n",
       "      <td>1</td>\n",
       "      <td>0.000000</td>\n",
       "      <td>0.00000</td>\n",
       "      <td>0.0000</td>\n",
       "      <td>0.000000</td>\n",
       "      <td>0.0</td>\n",
       "      <td>0.0</td>\n",
       "      <td>0.000000</td>\n",
       "    </tr>\n",
       "    <tr>\n",
       "      <th>10</th>\n",
       "      <td>multiple_visit</td>\n",
       "      <td>0</td>\n",
       "      <td>2</td>\n",
       "      <td>0.255602</td>\n",
       "      <td>1.00000</td>\n",
       "      <td>0.0000</td>\n",
       "      <td>0.436203</td>\n",
       "      <td>0.0</td>\n",
       "      <td>0.0</td>\n",
       "      <td>1.000000</td>\n",
       "    </tr>\n",
       "    <tr>\n",
       "      <th>11</th>\n",
       "      <td>uniq_urls</td>\n",
       "      <td>0</td>\n",
       "      <td>207</td>\n",
       "      <td>86.656180</td>\n",
       "      <td>206.00000</td>\n",
       "      <td>-1.0000</td>\n",
       "      <td>61.996711</td>\n",
       "      <td>30.0</td>\n",
       "      <td>75.0</td>\n",
       "      <td>155.000000</td>\n",
       "    </tr>\n",
       "    <tr>\n",
       "      <th>12</th>\n",
       "      <td>num_checkins</td>\n",
       "      <td>0</td>\n",
       "      <td>4570</td>\n",
       "      <td>721.848518</td>\n",
       "      <td>37091.00000</td>\n",
       "      <td>1.0000</td>\n",
       "      <td>1284.504018</td>\n",
       "      <td>126.0</td>\n",
       "      <td>318.0</td>\n",
       "      <td>803.000000</td>\n",
       "    </tr>\n",
       "    <tr>\n",
       "      <th>13</th>\n",
       "      <td>y_buy</td>\n",
       "      <td>0</td>\n",
       "      <td>2</td>\n",
       "      <td>0.003024</td>\n",
       "      <td>1.00000</td>\n",
       "      <td>0.0000</td>\n",
       "      <td>0.054904</td>\n",
       "      <td>0.0</td>\n",
       "      <td>0.0</td>\n",
       "      <td>0.000000</td>\n",
       "    </tr>\n",
       "  </tbody>\n",
       "</table>\n",
       "</div>"
      ],
      "text/plain": [
       "               variable  number_nan  number_distinct        mean          max  \\\n",
       "0               isbuyer           0                1    0.000000      0.00000   \n",
       "1              buy_freq       52257                0         NaN          NaN   \n",
       "2            visit_freq           0               48    1.651549     84.00000   \n",
       "3          buy_interval           0                1    0.000000      0.00000   \n",
       "4           sv_interval           0             5112    5.686388    184.91670   \n",
       "5     expected_time_buy           0                1    0.000000      0.00000   \n",
       "6   expected_time_visit           0            13351   -9.669298     91.40192   \n",
       "7              last_buy           0              189   65.741317    188.00000   \n",
       "8            last_visit           0              189   65.741317    188.00000   \n",
       "9          multiple_buy           0                1    0.000000      0.00000   \n",
       "10       multiple_visit           0                2    0.255602      1.00000   \n",
       "11            uniq_urls           0              207   86.656180    206.00000   \n",
       "12         num_checkins           0             4570  721.848518  37091.00000   \n",
       "13                y_buy           0                2    0.003024      1.00000   \n",
       "\n",
       "         min          std    25%    50%         75%  \n",
       "0     0.0000     0.000000    0.0    0.0    0.000000  \n",
       "1        NaN          NaN    NaN    NaN         NaN  \n",
       "2     1.0000     2.147955    1.0    1.0    2.000000  \n",
       "3     0.0000     0.000000    0.0    0.0    0.000000  \n",
       "4     0.0000    17.623555    0.0    0.0    0.041667  \n",
       "5     0.0000     0.000000    0.0    0.0    0.000000  \n",
       "6  -187.6156    31.239030    0.0    0.0    0.000000  \n",
       "7     0.0000    53.484622   19.0   52.0  106.000000  \n",
       "8     0.0000    53.484622   19.0   52.0  106.000000  \n",
       "9     0.0000     0.000000    0.0    0.0    0.000000  \n",
       "10    0.0000     0.436203    0.0    0.0    1.000000  \n",
       "11   -1.0000    61.996711   30.0   75.0  155.000000  \n",
       "12    1.0000  1284.504018  126.0  318.0  803.000000  \n",
       "13    0.0000     0.054904    0.0    0.0    0.000000  "
      ]
     },
     "metadata": {},
     "output_type": "display_data"
    }
   ],
   "source": [
    "# Place your code here\n",
    "\n",
    "for variable in missingVariables:\n",
    "    missingRows = ads[ads[variable].isnull()]\n",
    "    display(getDfSummary(missingRows))"
   ]
  },
  {
   "cell_type": "markdown",
   "metadata": {},
   "source": [
    "No, it does not look like the values are missing at random. isbuyer, buy_interval, expected_time_buy, and multiple_buy are all set to 0 when buy_freq is missing. It looks like this data is from people who visit, but do not buy anything. The data value should be 0 if the buy_freq is missing."
   ]
  },
  {
   "cell_type": "markdown",
   "metadata": {},
   "source": [
    "6\\. Which variables are binary?"
   ]
  },
  {
   "cell_type": "code",
   "execution_count": 11,
   "metadata": {
    "collapsed": false
   },
   "outputs": [
    {
     "name": "stdout",
     "output_type": "stream",
     "text": [
      "['isbuyer', 'multiple_buy', 'multiple_visit', 'y_buy']\n"
     ]
    }
   ],
   "source": [
    "# Place your code here\n",
    "binaryVariables = []\n",
    "\n",
    "for column in ads:\n",
    "    if len(ads[column].dropna().unique()) == 2:\n",
    "        binaryVariables.append(column)\n",
    "        \n",
    "print binaryVariables"
   ]
  },
  {
   "cell_type": "markdown",
   "metadata": {
    "collapsed": false
   },
   "source": []
  },
  {
   "cell_type": "code",
   "execution_count": null,
   "metadata": {
    "collapsed": false
   },
   "outputs": [],
   "source": []
  },
  {
   "cell_type": "code",
   "execution_count": null,
   "metadata": {
    "collapsed": true
   },
   "outputs": [],
   "source": []
  }
 ],
 "metadata": {
  "anaconda-cloud": {},
  "kernelspec": {
   "display_name": "Python [py27]",
   "language": "python",
   "name": "Python [py27]"
  },
  "language_info": {
   "codemirror_mode": {
    "name": "ipython",
    "version": 2
   },
   "file_extension": ".py",
   "mimetype": "text/x-python",
   "name": "python",
   "nbconvert_exporter": "python",
   "pygments_lexer": "ipython2",
   "version": "2.7.12"
  }
 },
 "nbformat": 4,
 "nbformat_minor": 0
}
